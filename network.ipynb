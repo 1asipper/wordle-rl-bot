{
 "cells": [
  {
   "cell_type": "markdown",
   "id": "9fa7dd76",
   "metadata": {},
   "source": [
    "# Network Creation"
   ]
  },
  {
   "cell_type": "code",
   "execution_count": null,
   "id": "569ee78b",
   "metadata": {},
   "outputs": [],
   "source": [
    "!pip install torch ./Gym-Wordle"
   ]
  },
  {
   "cell_type": "code",
   "execution_count": null,
   "id": "ec9462f6",
   "metadata": {
    "lines_to_next_cell": 1
   },
   "outputs": [],
   "source": [
    "import torch\n",
    "import matplotlib.pyplot as plt\n",
    "from torch import normal"
   ]
  },
  {
   "cell_type": "code",
   "execution_count": null,
   "id": "be20e43c",
   "metadata": {},
   "outputs": [],
   "source": [
    "from torch import nn\n",
    "\n",
    "class ActorNetwork(nn.Module):\n",
    "    \"\"\"LSTM RNN for generating words for wordle solver\"\"\"\n",
    "    def __init__(self, input_size, output_size=2):\n",
    "        super().__init__()\n",
    "        self.network = nn.Sequential(\n",
    "            nn.Linear(input_size, 32),\n",
    "            nn.ReLU(),\n",
    "            nn.Linear(32, 32),\n",
    "            nn.ReLU(),\n",
    "            nn.Linear(32, output_size),\n",
    "            nn.Softmax(0)\n",
    "        )\n",
    "        self.softmax = nn.Softmax(dim=1)\n",
    "    def forward(self, x):\n",
    "        y = self.network(x)\n",
    "        print(y)\n",
    "        return y\n",
    "\n",
    "class CriticNet(nn.Module):\n",
    "    \"\"\"Network representing the critic\"\"\"\n",
    "    def __init__(self, in_shape):\n",
    "        super().__init__()\n",
    "        self.v_network = nn.Sequential(\n",
    "            nn.Linear(in_shape, 64),\n",
    "            nn.ReLU(),\n",
    "            nn.Linear(64, 64),\n",
    "            nn.ReLU(),\n",
    "            nn.Linear(64, 1)\n",
    "            )\n",
    "\n",
    "    def forward(self, x):\n",
    "        return self.v_network(x)"
   ]
  },
  {
   "cell_type": "markdown",
   "id": "5121a436",
   "metadata": {},
   "source": [
    "# Figuring out the environment"
   ]
  },
  {
   "cell_type": "code",
   "execution_count": null,
   "id": "e07a270c",
   "metadata": {},
   "outputs": [],
   "source": [
    "import gym\n",
    "import gym_wordle\n",
    "wordle = gym.make('Wordle-v0')"
   ]
  },
  {
   "cell_type": "code",
   "execution_count": null,
   "id": "66da4d55",
   "metadata": {},
   "outputs": [],
   "source": [
    "obs = wordle.reset()\n",
    "mu, sigma = 1.0, 2.0\n",
    "action = normal(mu, sigma, size=(1,), generator=None, out=None)\n",
    "action = action.clip(0, wordle.action_space.n)\n",
    "print(action.round().item())\n",
    "wordle.step(int(action.round().item()))\n",
    "wordle.render()\n",
    "print(obs)"
   ]
  },
  {
   "cell_type": "markdown",
   "id": "c752e545",
   "metadata": {},
   "source": [
    "# Competing A2C solvers"
   ]
  },
  {
   "cell_type": "code",
   "execution_count": null,
   "id": "0234fba1",
   "metadata": {},
   "outputs": [],
   "source": [
    "def train(replay, q_val):\n",
    "    vals = torch.vstack(replay.vals)\n",
    "    \n",
    "    rewards_tensor = torch.tensor(np.asarray(replay.rewards, dtype=np.float32))\n",
    "    is_terminal_tensor = torch.tensor(np.asarray(replay.dones, dtype=np.int32))\n",
    "        \n",
    "    q_vals_tensor = rewards_tensor + discount_factor * q_val * (1 - is_terminal_tensor)\n",
    "        \n",
    "    advantage = q_vals_tensor - vals\n",
    "    \n",
    "    critic_loss = (advantage ** 2).mean()\n",
    "    # critic_loss.requires_grad = True\n",
    "    adam_critic.zero_grad()\n",
    "    critic_loss.backward(retain_graph=True)\n",
    "    adam_critic.step()\n",
    "    \n",
    "    \n",
    "    log_probabs_tensor = torch.vstack(replay.log_probs)\n",
    "    actor_loss = (-log_probabs_tensor*advantage.detach()).mean()\n",
    "    # actor_loss.requires_grad = True\n",
    "    adam_actor.zero_grad()\n",
    "    actor_loss.backward()\n",
    "    adam_actor.step()"
   ]
  },
  {
   "cell_type": "code",
   "execution_count": null,
   "id": "61b5c6f7",
   "metadata": {},
   "outputs": [],
   "source": [
    "class Advantage_ActorCritic():\n",
    "    def __init__(self, world: gym.Env, policy_net: ActorNetwork, critic_net: CriticNet,\n",
    "                 encoder, policy_alpha, critic_alpha, gamma, max_reward):\n",
    "        # environment info\n",
    "        self.world = world\n",
    "        self.encoder = encoder\n",
    "        self.max_reward = max_reward\n",
    "\n",
    "        # actor and critic\n",
    "        self.actor = policy_net\n",
    "        self.critic = critic_net\n",
    "        self.error_buffer = list()\n",
    "        self.policy_optimizer = torch.optim.Adam(policy_net.network.parameters(), lr=policy_alpha)\n",
    "        self.v_optimizer = torch.optim.Adam(critic_net.v_network.parameters(), lr=critic_alpha)\n",
    "\n",
    "        # training info\n",
    "        self.gamma = gamma\n",
    "        self.episodes = 0\n",
    "\n",
    "    def train(self, iterations):\n",
    "        converged = False\n",
    "        rewards = list()\n",
    "        recents = torch.zeros(10)\n",
    "        i = 0\n",
    "        while not converged:\n",
    "            r = self.episode()\n",
    "            rewards.append(r)\n",
    "\n",
    "            if i < 10:\n",
    "                recents[i] = r\n",
    "                i += 1\n",
    "\n",
    "            else:\n",
    "                recents.roll(-1, 0)\n",
    "                recents[9] = r\n",
    "            \n",
    "            # convergence check\n",
    "            if len(rewards) > 10 and recents.mean() >= self.max_reward:\n",
    "                converged = True\n",
    "            converged = True if iterations == self.episodes else False\n",
    "        \n",
    "        plt.plot(rewards)\n",
    "        plt.show()\n",
    "\n",
    "\n",
    "    def episode(self, training=True):\n",
    "        done = False\n",
    "        state = self.world.reset().copy()\n",
    "        episode_reward = 0\n",
    "        self.episodes += 1\n",
    "        while not done:\n",
    "            # take on policy action\n",
    "            encoded = self.encoder(state)\n",
    "            dist = self.actor(encoded)\n",
    "\n",
    "            action = normal(dist[0], dist[1])\n",
    "            action.clip(0, wordle.action_space.n)\n",
    "            action = int(action.clip(0, self.world.action_space.n).round().item())\n",
    "            try:\n",
    "                state_prime, reward, done, _ = self.world.step(action)\n",
    "            except AssertionError:\n",
    "                reward = -.1\n",
    "                state_prime = state.copy()\n",
    "\n",
    "            # fill buffer\n",
    "            self.error_buffer.append((state, state_prime, reward, dist))\n",
    "\n",
    "            # prepare for next iteration\n",
    "            episode_reward += reward\n",
    "            state = state_prime.copy()\n",
    "            if training:\n",
    "                self.__net_update()\n",
    "\n",
    "        return episode_reward\n",
    "\n",
    "    # Critic Loss\n",
    "    def td_error(self, value, value_prime, reward):\n",
    "        def loss_fn():\n",
    "            print(value.shape, value_prime.shape) \n",
    "            return reward + self.gamma * value_prime - value\n",
    "        return loss_fn()\n",
    "\n",
    "    # Actor error\n",
    "    def policy_error(self, prob, error):\n",
    "        # def loss_fn():\n",
    "        print(prob.shape)\n",
    "        print(error.shape)\n",
    "        log_probabs_tensor = prob.reshape(-1)\n",
    "        print(log_probabs_tensor.shape)\n",
    "        return (-log_probabs_tensor * error).mean()\n",
    "        # return loss_fn()\n",
    "\n",
    "    def __net_update(self):\n",
    "        # calculate error for policy and critic\n",
    "        self.critic.v_network.zero_grad()\n",
    "        self.actor.network.zero_grad()\n",
    "\n",
    "        state, state_prime, reward, prob = self.error_buffer.pop(0)\n",
    "        print(f'Encoder -> {self.encoder(state)}')\n",
    "        value = self.critic(self.encoder(state))\n",
    "        value_prime = self.critic(self.encoder(state_prime))\n",
    "\n",
    "        td_error = self.td_error(value, value_prime, reward)\n",
    "        print(f'TD Error: {td_error}')\n",
    "        print(f'Prob: {prob}')\n",
    "\n",
    "\n",
    "        policy_error = self.policy_error(prob, td_error) \n",
    "        print(f'P Error: {policy_error.reshape(-1)}')\n",
    "\n",
    "        # backprop\n",
    "        if self.episodes > 100:\n",
    "            td_error.backward()\n",
    "        else:\n",
    "            policy_error.backward()\n",
    "            self.policy_optimizer.step()\n",
    "        self.v_optimizer.step()"
   ]
  },
  {
   "cell_type": "markdown",
   "id": "6e1ddb08",
   "metadata": {},
   "source": [
    "# Solving the Environment"
   ]
  },
  {
   "cell_type": "code",
   "execution_count": null,
   "id": "d00b2396",
   "metadata": {},
   "outputs": [],
   "source": [
    "critic = CriticNet(60)\n",
    "actor = ActorNetwork(60, 2)\n",
    "agent = Advantage_ActorCritic(wordle, actor, critic, \n",
    "lambda x: torch.tensor(x.flatten()).to(torch.float32), 1e-3, 1e-3, 0.9, 1)"
   ]
  },
  {
   "cell_type": "code",
   "execution_count": null,
   "id": "3cd11b61",
   "metadata": {},
   "outputs": [],
   "source": [
    "agent.episode()"
   ]
  }
 ],
 "metadata": {
  "interpreter": {
   "hash": "6a0a884f1235414abea8799649159e2407a8ec7e78a1569e1fef1695eed75495"
  },
  "jupytext": {
   "cell_metadata_filter": "-all",
   "formats": "py:light,ipynb",
   "notebook_metadata_filter": "-all"
  },
  "kernelspec": {
   "display_name": "Python 3.8.13 ('tf')",
   "name": "python3"
  },
  "language_info": {
   "codemirror_mode": {
    "name": "ipython",
    "version": 3
   },
   "file_extension": ".py",
   "mimetype": "text/x-python",
   "name": "python",
   "nbconvert_exporter": "python",
   "pygments_lexer": "ipython3",
   "version": "3.9.12"
  }
 },
 "nbformat": 4,
 "nbformat_minor": 5
}
