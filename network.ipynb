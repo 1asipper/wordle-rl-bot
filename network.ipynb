{
 "cells": [
  {
   "cell_type": "markdown",
   "id": "9fa7dd76",
   "metadata": {},
   "source": [
    "# Network Creation"
   ]
  },
  {
   "cell_type": "code",
   "execution_count": null,
   "id": "569ee78b",
   "metadata": {},
   "outputs": [],
   "source": [
    "!pip install torch ./Gym-Wordle"
   ]
  },
  {
   "cell_type": "code",
   "execution_count": null,
   "id": "ec9462f6",
   "metadata": {
    "lines_to_next_cell": 1
   },
   "outputs": [],
   "source": [
    "import torch\n",
    "import matplotlib.pyplot as plt\n",
    "from torch import normal"
   ]
  },
  {
   "cell_type": "code",
   "execution_count": null,
   "id": "be20e43c",
   "metadata": {},
   "outputs": [],
   "source": [
    "from torch import nn\n",
    "\n",
    "class ActorNetwork(nn.Module):\n",
    "    \"\"\"LSTM RNN for generating words for wordle solver\"\"\"\n",
    "    def __init__(self, input_size, output_size=2):\n",
    "        super().__init__()\n",
    "        self.network = nn.Sequential(\n",
    "            nn.Linear(input_size, 32),\n",
    "            nn.ReLU(),\n",
    "            nn.Linear(32, 32),\n",
    "            nn.ReLU(),\n",
    "            #nn.Linear(32, 32),\n",
    "            #nn.ReLU(),\n",
    "            nn.Linear(32, output_size),\n",
    "            nn.ReLU()\n",
    "        )\n",
    "\n",
    "    def forward(self, x):\n",
    "        y = self.network(x)\n",
    "        return y\n",
    "\n",
    "class CriticNet(nn.Module):\n",
    "    \"\"\"Network representing the critic\"\"\"\n",
    "    def __init__(self, in_shape):\n",
    "        super().__init__()\n",
    "        self.network = nn.Sequential(\n",
    "            nn.Linear(in_shape, 64),\n",
    "            nn.ReLU(),\n",
    "            nn.Linear(64, 64),\n",
    "            nn.ReLU(),\n",
    "            nn.Linear(64, 1)\n",
    "            )\n",
    "\n",
    "    def forward(self, x):\n",
    "        return self.network(x)"
   ]
  },
  {
   "cell_type": "markdown",
   "id": "5121a436",
   "metadata": {},
   "source": [
    "# Figuring out the environment"
   ]
  },
  {
   "cell_type": "code",
   "execution_count": null,
   "id": "e07a270c",
   "metadata": {},
   "outputs": [],
   "source": [
    "import gym\n",
    "import gym_wordle.utils\n",
    "import numpy as np\n",
    "wordle = gym.make('Wordle-v0')"
   ]
  },
  {
   "cell_type": "markdown",
   "id": "f44cf189",
   "metadata": {},
   "source": [
    "# Use entropy minimization for reward function"
   ]
  },
  {
   "cell_type": "code",
   "execution_count": null,
   "id": "eaa9483f",
   "metadata": {},
   "outputs": [],
   "source": [
    "def entropy_critic(guess: np.ndarray, remaining_space: np.ndarray):\n",
    "    # get guess and the values\n",
    "    orig_space = remaining_space.shape[0]\n",
    "    split = np.split(guess, 2)\n",
    "    g = split[0]\n",
    "    vals = split[1]\n",
    "    explored = set()\n",
    "\n",
    "    # get complete matches (i.e. matches based on position)\n",
    "    matches = np.argwhere(vals==1).flatten()\n",
    "    for i in matches:\n",
    "        remaining_space = remaining_space[np.nonzero(remaining_space[:, i] == g[i])] \n",
    "        explored.add(g[i])\n",
    "\n",
    "    # find remaining words that this letter\n",
    "    exists = np.argwhere(vals==2).flatten()\n",
    "    for i in exists:\n",
    "        if g[i] in explored:\n",
    "            continue\n",
    "        else:\n",
    "            explored.add(g[i])\n",
    "        e = np.full(remaining_space.shape[0], False)\n",
    "        for j in range(5):\n",
    "            if i == j or np.isin(j, matches):\n",
    "                continue\n",
    "            e = np.logical_or(e, remaining_space[:, j] == g[i])\n",
    "        remaining_space = remaining_space[e]\n",
    "\n",
    "    # we know what letters we DON'T have\n",
    "    dne = np.argwhere(vals==3).flatten()\n",
    "    for i in dne:\n",
    "        if g[i] in explored:\n",
    "            continue\n",
    "        else:\n",
    "            explored.add(g[i])\n",
    "        e = np.full(remaining_space.shape[0], False)\n",
    "        for j in range(5):\n",
    "            if np.isin(j, matches):\n",
    "                continue\n",
    "            e = np.logical_or(e, remaining_space[:, j] == g[i])\n",
    "        remaining_space = remaining_space[np.logical_not(e)]\n",
    "\n",
    "    # do calc\n",
    "    p = float(remaining_space.shape[0]) / float(orig_space)\n",
    "    entropy = -np.log2(p)\n",
    "    return entropy, remaining_space"
   ]
  },
  {
   "cell_type": "markdown",
   "id": "c752e545",
   "metadata": {},
   "source": [
    "# A2C solver"
   ]
  },
  {
   "cell_type": "code",
   "execution_count": null,
   "id": "61b5c6f7",
   "metadata": {},
   "outputs": [],
   "source": [
    "class Advantage_ActorCritic():\n",
    "    def __init__(self, world: gym.Env, policy_net: ActorNetwork, critic,\n",
    "                 encoder, policy_alpha,  gamma, max_reward):\n",
    "        # environment info\n",
    "        self.world = world\n",
    "        self.encoder = encoder\n",
    "        self.max_reward = max_reward\n",
    "\n",
    "        # actor and critic\n",
    "        self.actor = policy_net\n",
    "        self.critic = critic\n",
    "        self.error_buffer = list()\n",
    "        self.policy_optimizer = torch.optim.Adam(policy_net.network.parameters(), lr=policy_alpha, maximize=True)\n",
    "\n",
    "        # training info\n",
    "        self.gamma = gamma\n",
    "        self.episodes = 0\n",
    "        self.step = 0\n",
    "        self.guesses = np.zeros(world.action_space.n)\n",
    "        self.remaining = None\n",
    "\n",
    "    def train(self, iterations):\n",
    "        converged = False\n",
    "        rewards = list()\n",
    "        recents = torch.zeros(10)\n",
    "        i = 0\n",
    "        while not converged:\n",
    "            r = self.episode()\n",
    "            rewards.append(r)\n",
    "\n",
    "            if i < 10:\n",
    "                recents[i] = r\n",
    "                i += 1\n",
    "\n",
    "            else:\n",
    "                recents.roll(-1, 0)\n",
    "                recents[9] = r\n",
    "            \n",
    "            # convergence check\n",
    "            if len(rewards) > 10 and recents.mean() >= self.max_reward:\n",
    "                converged = True\n",
    "            converged = True if iterations == self.episodes else False\n",
    "        \n",
    "        plt.plot(rewards)\n",
    "        plt.show()\n",
    "\n",
    "    def episode(self, training=True):\n",
    "        done = False\n",
    "        state = self.world.reset().copy()\n",
    "        episode_reward = 0\n",
    "        self.episodes += 1\n",
    "        self.step = -1\n",
    "        self.remaining = gym_wordle.utils.get_words(\"solution\")\n",
    "        while not done:\n",
    "            self.step += 1\n",
    "            # take on policy action\n",
    "            encoded = nn.functional.one_hot(self.encoder(state), 27)\n",
    "            dist = self.actor(encoded.to(torch.float32).flatten())\n",
    "\n",
    "            action = normal(dist[0], dist[1])\n",
    "            print(action)\n",
    "            action *= 1000\n",
    "            action = int(action.clip(0, self.world.action_space.n-1).round().item())\n",
    "            self.guesses[action] += 1\n",
    "            state_prime, reward, done, _ = self.world.step(action)\n",
    "\n",
    "            # fill buffer\n",
    "            self.error_buffer.append((state, state_prime, reward, dist))\n",
    "\n",
    "            # prepare for next iteration\n",
    "            episode_reward += reward\n",
    "            state = state_prime.copy()\n",
    "            if training:\n",
    "                self.__net_update()\n",
    "\n",
    "        return episode_reward\n",
    "\n",
    "    # Actor error\n",
    "    def policy_error(self, prob, error):\n",
    "        log_probabs_tensor = prob.reshape(-1)\n",
    "        return (-log_probabs_tensor * error).mean()\n",
    "\n",
    "    def __net_update(self):\n",
    "        # calculate error for policy and critic\n",
    "        self.actor.network.zero_grad()\n",
    "\n",
    "        state, state_prime, reward, prob = self.error_buffer.pop(0)\n",
    "        loss1 = self.critic(state[self.step-1], self.remaining)\n",
    "        loss2, self.remaining = self.critic(state_prime[self.step], self.remaining)\n",
    "        policy_error = self.policy_error(prob, loss2)\n",
    "\n",
    "        # backprop\n",
    "        policy_error.backward()\n",
    "        #nn.utils.clip_grad_norm_(self.actor.parameters(), 1e-2)\n",
    "        self.policy_optimizer.step()"
   ]
  },
  {
   "cell_type": "markdown",
   "id": "6e1ddb08",
   "metadata": {},
   "source": [
    "# Solving the Environment"
   ]
  },
  {
   "cell_type": "code",
   "execution_count": null,
   "id": "d00b2396",
   "metadata": {},
   "outputs": [],
   "source": [
    "device = 'cuda' if torch.cuda.is_available() else 'cpu'\n",
    "critic = entropy_critic\n",
    "actor = ActorNetwork(60*27, 2).to(device)\n",
    "agent = Advantage_ActorCritic(wordle, actor, critic, \n",
    "lambda x: torch.tensor(x.flatten()).to(torch.int64).to(device),\n",
    "                              1e-3, 0.9, -4)"
   ]
  },
  {
   "cell_type": "code",
   "execution_count": null,
   "id": "c53a8914",
   "metadata": {
    "scrolled": true
   },
   "outputs": [],
   "source": [
    "agent.train(5000)\n",
    "plt.plot(agent.guesses)\n",
    "plt.show()\n",
    "agent.world.render()"
   ]
  },
  {
   "cell_type": "code",
   "execution_count": null,
   "id": "819ef4b3",
   "metadata": {},
   "outputs": [],
   "source": [
    "agent.episode()\n",
    "agent.world.render()\n",
    "print(agent.guesses[0])"
   ]
  },
  {
   "cell_type": "code",
   "execution_count": null,
   "id": "c36aa2fb",
   "metadata": {},
   "outputs": [],
   "source": []
  }
 ],
 "metadata": {
  "interpreter": {
   "hash": "6a0a884f1235414abea8799649159e2407a8ec7e78a1569e1fef1695eed75495"
  },
  "jupytext": {
   "cell_metadata_filter": "-all",
   "formats": "py:light,ipynb",
   "notebook_metadata_filter": "-all"
  },
  "kernelspec": {
   "display_name": "Python 3",
   "language": "python",
   "name": "python3"
  },
  "language_info": {
   "codemirror_mode": {
    "name": "ipython",
    "version": 3
   },
   "file_extension": ".py",
   "mimetype": "text/x-python",
   "name": "python",
   "nbconvert_exporter": "python",
   "pygments_lexer": "ipython3",
   "version": "3.8.8"
  }
 },
 "nbformat": 4,
 "nbformat_minor": 5
}
