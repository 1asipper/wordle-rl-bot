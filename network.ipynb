{
 "cells": [
  {
   "cell_type": "markdown",
   "id": "9fa7dd76",
   "metadata": {},
   "source": [
    "# Network Creation"
   ]
  },
  {
   "cell_type": "code",
   "execution_count": null,
   "id": "569ee78b",
   "metadata": {},
   "outputs": [],
   "source": [
    "#!pip install torch ./Gym-Wordle"
   ]
  },
  {
   "cell_type": "code",
   "execution_count": null,
   "id": "ec9462f6",
   "metadata": {
    "lines_to_next_cell": 1
   },
   "outputs": [],
   "source": [
    "import torch\n",
    "import matplotlib.pyplot as plt\n",
    "from torch import normal"
   ]
  },
  {
   "cell_type": "code",
   "execution_count": null,
   "id": "be20e43c",
   "metadata": {},
   "outputs": [],
   "source": [
    "from torch import nn\n",
    "\n",
    "class ActorNetwork(nn.Module):\n",
    "    \"\"\"LSTM RNN for generating words for wordle solver\"\"\"\n",
    "    def __init__(self, input_size, output_size=2):\n",
    "        super().__init__()\n",
    "        self.network = nn.Sequential(\n",
    "            nn.Linear(input_size, 32),\n",
    "            nn.ReLU(),\n",
    "            nn.Linear(32, 32),\n",
    "            nn.ReLU(),\n",
    "            nn.Linear(32, output_size),\n",
    "        )\n",
    "        self.softmax = nn.Softmax(dim=1)\n",
    "    def forward(self, x):\n",
    "        y = self.network(x)\n",
    "        print(y.shape)\n",
    "        print(y)\n",
    "        return y\n",
    "\n",
    "class CriticNet(nn.Module):\n",
    "    \"\"\"Network representing the critic\"\"\"\n",
    "    def __init__(self, in_shape):\n",
    "        super().__init__()\n",
    "        self.v_network = nn.Sequential(\n",
    "            nn.Linear(in_shape, 64),\n",
    "            nn.ReLU(),\n",
    "            nn.Linear(64, 64),\n",
    "            nn.ReLU(),\n",
    "            nn.Linear(64, 1)\n",
    "            )\n",
    "\n",
    "    def forward(self, x):\n",
    "        return self.v_network(x)"
   ]
  },
  {
   "cell_type": "markdown",
   "id": "5121a436",
   "metadata": {},
   "source": [
    "# Figuring out the environment"
   ]
  },
  {
   "cell_type": "code",
   "execution_count": null,
   "id": "e07a270c",
   "metadata": {},
   "outputs": [],
   "source": [
    "import gym\n",
    "import gym_wordle.utils\n",
    "import numpy as np\n",
    "wordle = gym.make('Wordle-v0')"
   ]
  },
  {
   "cell_type": "markdown",
   "id": "c752e545",
   "metadata": {},
   "source": [
    "# Competing A2C solvers\n",
    "- this is not actually A2C anymore, but whatever"
   ]
  },
  {
   "cell_type": "code",
   "execution_count": null,
   "id": "61b5c6f7",
   "metadata": {},
   "outputs": [],
   "source": [
    "class Advantage_ActorCritic():\n",
    "    def __init__(self, world: gym.Env, policy_net: ActorNetwork, critic,\n",
    "                 encoder, policy_alpha,  gamma, max_reward):\n",
    "        # environment info\n",
    "        self.world = world\n",
    "        self.encoder = encoder\n",
    "        self.max_reward = max_reward\n",
    "\n",
    "        # actor and critic\n",
    "        self.actor = policy_net\n",
    "        self.critic = critic\n",
    "        self.error_buffer = list()\n",
    "        self.policy_optimizer = torch.optim.Adam(policy_net.network.parameters(), lr=policy_alpha)\n",
    "\n",
    "        # training info\n",
    "        self.gamma = gamma\n",
    "        self.episodes = 0\n",
    "        self.step = -1\n",
    "        self.guesses = np.zeros(world.action_space.n)\n",
    "        self.remaining = None\n",
    "\n",
    "    def train(self, iterations):\n",
    "        converged = False\n",
    "        rewards = list()\n",
    "        recents = torch.zeros(10)\n",
    "        i = 0\n",
    "        while not converged:\n",
    "            r = self.episode()\n",
    "            rewards.append(r)\n",
    "\n",
    "            if i < 10:\n",
    "                recents[i] = r\n",
    "                i += 1\n",
    "\n",
    "            else:\n",
    "                recents.roll(-1, 0)\n",
    "                recents[9] = r\n",
    "            \n",
    "            # convergence check\n",
    "            if len(rewards) > 10 and recents.mean() >= self.max_reward:\n",
    "                converged = True\n",
    "            converged = True if iterations == self.episodes else False\n",
    "        \n",
    "        plt.plot(rewards)\n",
    "        plt.show()\n",
    "\n",
    "    def episode(self, training=True):\n",
    "        done = False\n",
    "        state = self.world.reset().copy()\n",
    "        episode_reward = 0\n",
    "        self.episodes += 1\n",
    "        self.step = -1\n",
    "        self.remaining = gym_wordle.utils.get_words(\"guess\")\n",
    "        while not done:\n",
    "            self.step += 1\n",
    "            # take on policy action\n",
    "            encoded = nn.functional.one_hot(self.encoder(state), 27)\n",
    "            print(encoded.shape)\n",
    "            dist = self.actor(encoded.to(torch.float32).flatten())\n",
    "\n",
    "            action = normal(dist[0], dist[1])\n",
    "            print(dist[0], dist[1], action)\n",
    "            action = int(action.clip(0, self.world.action_space.n-1).round().item())\n",
    "            self.guesses[action] += 1\n",
    "            state_prime, reward, done, _ = self.world.step(action)\n",
    "\n",
    "            # fill buffer\n",
    "            self.error_buffer.append((state, state_prime, reward, dist))\n",
    "\n",
    "            # prepare for next iteration\n",
    "            episode_reward += reward\n",
    "            state = state_prime.copy()\n",
    "            if training:\n",
    "                self.__net_update()\n",
    "\n",
    "        return episode_reward\n",
    "\n",
    "    # Actor error\n",
    "    def policy_error(self, prob, error):\n",
    "        log_probabs_tensor = prob.reshape(-1)\n",
    "        return (-log_probabs_tensor * error).mean()\n",
    "\n",
    "    def __net_update(self):\n",
    "        # calculate error for policy and critic\n",
    "        self.actor.network.zero_grad()\n",
    "\n",
    "        state, state_prime, reward, prob = self.error_buffer.pop(0)\n",
    "        loss = self.critic(state_prime[self.step], self.remaining)\n",
    "        policy_error = self.policy_error(prob, loss) \n",
    "\n",
    "        # backprop\n",
    "        policy_error.backward()\n",
    "        self.policy_optimizer.step()"
   ]
  },
  {
   "cell_type": "markdown",
   "id": "f44cf189",
   "metadata": {},
   "source": [
    "# Use entropy minimization to develop a critic"
   ]
  },
  {
   "cell_type": "code",
   "execution_count": null,
   "id": "eaa9483f",
   "metadata": {},
   "outputs": [],
   "source": [
    "entropies = list()\n",
    "import pdb\n",
    "def entropy_critic(guess: np.ndarray, remaining_space: np.ndarray):\n",
    "\t#remaining_space = gym_wordle.utils.get_words(\"guess\")\n",
    "\t# get guess and the values\n",
    "\tsplit = np.split(guess, 2)\n",
    "\tg = split[0]\n",
    "\tvals = split[1]\n",
    "\texplored = set()\n",
    "\n",
    "\t# get complete matches (i.e. matches based on position)\n",
    "\tmatches = np.argwhere(vals==1).flatten()\n",
    "\t#print(\"matches\", matches)\n",
    "\t#print(matches)\n",
    "\tfor i in matches:\n",
    "\t\tremaining_space = remaining_space[np.nonzero(remaining_space[:, i] == g[i])] \n",
    "\t\texplored.add(g[i])\n",
    "\t#print(\"after matches\", remaining_space.shape)\n",
    "\n",
    "\t# find remaining words that this letter\n",
    "\texists = np.argwhere(vals==2).flatten()\n",
    "\t#print(\"exists\", exists)\n",
    "\tfor i in exists:\n",
    "\t\tif g[i] in explored:\n",
    "\t\t\tcontinue\n",
    "\t\telse:\n",
    "\t\t\texplored.add(g[i])\n",
    "\t\te = np.full(remaining_space.shape[0], False)\n",
    "\t\tfor j in range(5):\n",
    "\t\t\tif i == j or np.isin(j, matches):\n",
    "\t\t\t\tcontinue\n",
    "\t\t\te = np.logical_or(e, remaining_space[:, j] == g[i])\n",
    "\t\tremaining_space = remaining_space[e]\n",
    "\t\t#print(\"after exists\", i, remaining_space.shape)\n",
    "\n",
    "\t# we know what letters we DON'T have\n",
    "\tdne = np.argwhere(vals==3).flatten()\n",
    "\t#print(\"dne\", dne)\n",
    "\tfor i in dne:\n",
    "\t\tif g[i] in explored:\n",
    "\t\t\tcontinue\n",
    "\t\telse:\n",
    "\t\t\texplored.add(g[i])\n",
    "\t\te = np.full(remaining_space.shape[0], False)\n",
    "\t\tfor j in range(5):\n",
    "\t\t\tif np.isin(j, matches):\n",
    "\t\t\t\tcontinue\n",
    "\t\t\te = np.logical_or(e, remaining_space[:, j] == g[i])\n",
    "\t\tremaining_space = remaining_space[np.logical_not(e)]\n",
    "\t\t#print(\"after DNE\", i, remaining_space.shape)\n",
    "\n",
    "\t# do calc\n",
    "\tp = float(remaining_space.shape[0]) / float(wordle.action_space.n)\n",
    "\t#print(p)\n",
    "\tentropy = -p * np.log2(p)\n",
    "\tentropies.append(entropy)\n",
    "\treturn entropy"
   ]
  },
  {
   "cell_type": "markdown",
   "id": "6e1ddb08",
   "metadata": {},
   "source": [
    "# Solving the Environment"
   ]
  },
  {
   "cell_type": "code",
   "execution_count": null,
   "id": "d00b2396",
   "metadata": {},
   "outputs": [],
   "source": [
    "critic = entropy_critic\n",
    "actor = ActorNetwork(60*27, 2)\n",
    "agent = Advantage_ActorCritic(wordle, actor, critic, \n",
    "lambda x: torch.tensor(x.flatten()).to(torch.int64), 1e-3, 0.9, -4)"
   ]
  },
  {
   "cell_type": "code",
   "execution_count": null,
   "id": "c53a8914",
   "metadata": {},
   "outputs": [],
   "source": [
    "agent.train(2000)"
   ]
  },
  {
   "cell_type": "code",
   "execution_count": null,
   "id": "6b5e626a",
   "metadata": {},
   "outputs": [],
   "source": [
    "plt.plot(entropies)\n",
    "plt.show()\n",
    "plt.plot(agent.guesses)\n",
    "plt.show()"
   ]
  }
 ],
 "metadata": {
  "interpreter": {
   "hash": "6a0a884f1235414abea8799649159e2407a8ec7e78a1569e1fef1695eed75495"
  },
  "jupytext": {
   "cell_metadata_filter": "-all",
   "formats": "py:light,ipynb",
   "notebook_metadata_filter": "-all"
  },
  "kernelspec": {
   "display_name": "Python 3.8.13 ('tf')",
   "name": "python3"
  },
  "language_info": {
   "codemirror_mode": {
    "name": "ipython",
    "version": 3
   },
   "file_extension": ".py",
   "mimetype": "text/x-python",
   "name": "python",
   "nbconvert_exporter": "python",
   "pygments_lexer": "ipython3",
   "version": "3.9.12"
  }
 },
 "nbformat": 4,
 "nbformat_minor": 5
}
